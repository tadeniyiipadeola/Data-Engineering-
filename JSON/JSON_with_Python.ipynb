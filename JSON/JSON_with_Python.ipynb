{
 "cells": [
  {
   "cell_type": "code",
   "execution_count": 12,
   "metadata": {},
   "outputs": [],
   "source": [
    "import json\n"
   ]
  },
  {
   "cell_type": "code",
   "execution_count": 13,
   "metadata": {},
   "outputs": [],
   "source": [
    "people_string = '''\n",
    "{\n",
    "    \"people\": [\n",
    "        {\n",
    "            \"name\": \"John Smith\",\n",
    "            \"phone\": \"615-555-7164\",\n",
    "            \"emails\": [\"johnsmith@bogusemail.com\", \"john.smith@work-place.com\"], \n",
    "            \"has_license\":false\n",
    "        },\n",
    "        {\n",
    "            \"name\": \"Jane Doe\",\n",
    "            \"phone\": \"560-555-5153\",\n",
    "            \"emails\": null,\n",
    "            \"has_license\": true\n",
    "        }\n",
    "    ]\n",
    "}\n",
    "'''"
   ]
  },
  {
   "cell_type": "code",
   "execution_count": 14,
   "metadata": {},
   "outputs": [
    {
     "name": "stdout",
     "output_type": "stream",
     "text": [
      "{'people': [{'name': 'John Smith', 'phone': '615-555-7164', 'eamils': ['johnsmith@bogusemail.com', 'john.smith@work-place.com'], 'has_license': False}, {'name': 'Jane Doe', 'phone': '560-555-5153', 'emails': None, 'has_license': True}]}\n"
     ]
    }
   ],
   "source": [
    "data = json.loads(people_string)\n",
    "print(data)"
   ]
  },
  {
   "cell_type": "code",
   "execution_count": 15,
   "metadata": {},
   "outputs": [
    {
     "name": "stdout",
     "output_type": "stream",
     "text": [
      "<class 'list'>\n"
     ]
    }
   ],
   "source": [
    "print(type(data['people']))"
   ]
  },
  {
   "cell_type": "code",
   "execution_count": 16,
   "metadata": {},
   "outputs": [
    {
     "name": "stdout",
     "output_type": "stream",
     "text": [
      "John Smith\n",
      "Jane Doe\n"
     ]
    }
   ],
   "source": [
    "for person in data['people']:\n",
    "    print(person['name'])"
   ]
  },
  {
   "cell_type": "code",
   "execution_count": 17,
   "metadata": {},
   "outputs": [],
   "source": [
    "for person in data['people']:\n",
    "    del(person['phone'])"
   ]
  },
  {
   "cell_type": "code",
   "execution_count": 19,
   "metadata": {},
   "outputs": [
    {
     "name": "stdout",
     "output_type": "stream",
     "text": [
      "{\"people\": [{\"name\": \"John Smith\", \"eamils\": [\"johnsmith@bogusemail.com\", \"john.smith@work-place.com\"], \"has_license\": false}, {\"name\": \"Jane Doe\", \"emails\": null, \"has_license\": true}]}\n"
     ]
    }
   ],
   "source": [
    "new_string = json.dumps(data)\n",
    "print(new_string)"
   ]
  }
 ],
 "metadata": {
  "interpreter": {
   "hash": "0e06544754e6f7af70501e48cb6debe872c81eec92b9c0f92fe411ee3e379b1e"
  },
  "kernelspec": {
   "display_name": "Python 3.9.7 64-bit",
   "language": "python",
   "name": "python3"
  },
  "language_info": {
   "codemirror_mode": {
    "name": "ipython",
    "version": 3
   },
   "file_extension": ".py",
   "mimetype": "text/x-python",
   "name": "python",
   "nbconvert_exporter": "python",
   "pygments_lexer": "ipython3",
   "version": "3.9.7"
  },
  "orig_nbformat": 4
 },
 "nbformat": 4,
 "nbformat_minor": 2
}
